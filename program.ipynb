{
 "cells": [
  {
   "cell_type": "markdown",
   "source": [
    "Import packages"
   ],
   "metadata": {
    "collapsed": false
   }
  },
  {
   "cell_type": "code",
   "execution_count": 107,
   "metadata": {
    "collapsed": true
   },
   "outputs": [],
   "source": [
    "import pandas as pd\n",
    "import numpy as np\n",
    "import seaborn as sns\n",
    "import dython as dy\n",
    "from os.path import join\n",
    "import scipy.io.wavfile as wav\n",
    "import librosa as lbr\n",
    "from scipy import signal\n",
    "import matplotlib.pyplot as plt\n",
    "from sklearn.preprocessing import normalize\n",
    "from sklearn.model_selection import KFold, ParameterGrid\n",
    "from sklearn.ensemble import RandomForestClassifier\n",
    "from sklearn.ensemble import ExtraTreesClassifier\n",
    "from sklearn.metrics import f1_score, accuracy_score\n",
    "from sklearn.model_selection import train_test_split\n",
    "from sklearn.decomposition import PCA\n",
    "from sklearn.preprocessing import OneHotEncoder\n",
    "import noisereduce as nr\n",
    "from sklearn.model_selection import GridSearchCV\n",
    "from sklearn.neighbors import KNeighborsClassifier\n",
    "from sklearn.svm import SVC\n",
    "import csv\n",
    "import warnings\n",
    "import time\n",
    "from sklearn.preprocessing import MinMaxScaler\n",
    "from sklearn.preprocessing import StandardScaler\n",
    "warnings.filterwarnings('ignore')"
   ]
  },
  {
   "cell_type": "markdown",
   "source": [
    "Spectrometer function"
   ],
   "metadata": {
    "collapsed": false
   }
  },
  {
   "cell_type": "code",
   "execution_count": 108,
   "outputs": [],
   "source": [
    "def spect(arr, fs, n_sub_r,n_sub_c):\n",
    "    spect_list = []\n",
    "    for i in range(0,len(arr)):\n",
    "        # freq, time,  spectrum = signal.spectrogram(x=arr[i], fs=fs[i])\n",
    "        # spectrum = 10*np.log10(1+spectrum)\n",
    "        # spectrum = lbr.feature.melspectrogram(arr[i],sr=fs[i])\n",
    "\n",
    "        spectrum = lbr.feature.mfcc(y=arr[i],sr=16000,n_mfcc=n_sub_r,lifter=1)\n",
    "        spectrum1 = lbr.feature.delta(spectrum, order=1)\n",
    "        #spectrum2 = lbr.feature.delta(spectrum, order=2)\n",
    "        # spect_split1 = np.array_split(spectrum, n_sub_r, axis=0)\n",
    "        tmp_row = []\n",
    "        for row in spectrum1:\n",
    "            spect_split2 = np.array_split(row, n_sub_c)\n",
    "            for block in spect_split2:\n",
    "                tmp_row.append(block.mean())\n",
    "        spect_list.append(tmp_row)\n",
    "        if i%1000 == 0:\n",
    "            print(i)\n",
    "    print(np.array(spect_list).shape)\n",
    "    return spect_list"
   ],
   "metadata": {
    "collapsed": false
   }
  },
  {
   "cell_type": "code",
   "execution_count": 109,
   "outputs": [],
   "source": [
    "def data_import(path,par='dev'):\n",
    "    df_in = pd.read_csv(path)\n",
    "    df_in = df_in.rename(columns={'Self-reported fluency level ': 'fluency', 'First Language spoken': 'firstLan', 'Current language used for work/school': 'currentLan'})\n",
    "    df_out = df_in[['fluency','gender','currentLan']]\n",
    "    X = []\n",
    "    y = []\n",
    "    rate_list = []\n",
    "    i = 0\n",
    "    counter = 0\n",
    "\n",
    "    for item in df_in.iterrows():\n",
    "        filename = item[1]['path']\n",
    "        data, rate = lbr.load(filename, sr= None)\n",
    "\n",
    "        '''\n",
    "        clips = lbr.effects.split(data, top_db=10)\n",
    "        data_no_silence = []\n",
    "        for c in clips:\n",
    "            segment = data[c[0]: c[1]]\n",
    "            data_no_silence.extend(segment)\n",
    "        '''\n",
    "        data_no_silence,index = lbr.effects.trim(data, top_db= 20)\n",
    "        # data_emp = lbr.effects.preemphasis(np.array(data_no_silence[0]))\n",
    "        # data_processed = nr.reduce_noise(y=data_emp, sr=rate)\n",
    "\n",
    "        #data_processed = nr.reduce_noise(y=lbr.effects.preemphasis(lbr.effects.trim(data, top_db= 10)[0]), sr=rate)\n",
    "        length = data_no_silence.shape[0]/rate\n",
    "        if par=='dev':\n",
    "            if 0.3 < length < 3.5:\n",
    "                rate_list.append(rate)\n",
    "                X.append(np.array(data_no_silence))\n",
    "                label = item[1]['action']+item[1]['object']\n",
    "                y.append(label)\n",
    "            else:\n",
    "                counter+=1\n",
    "        else:\n",
    "            rate_list.append(rate)\n",
    "            X.append(np.array(data_no_silence))\n",
    "        if i%1000 == 0:\n",
    "            print(i)\n",
    "        i+=1\n",
    "\n",
    "    print(\"DELETED TRACKS:\",counter)\n",
    "\n",
    "    if par=='dev':\n",
    "        return df_out,X,y,rate_list\n",
    "    else:\n",
    "        return df_out,X,rate_list\n"
   ],
   "metadata": {
    "collapsed": false
   }
  },
  {
   "cell_type": "markdown",
   "source": [
    "Import data"
   ],
   "metadata": {
    "collapsed": false
   }
  },
  {
   "cell_type": "code",
   "execution_count": 110,
   "outputs": [
    {
     "name": "stdout",
     "output_type": "stream",
     "text": [
      "0\n",
      "1000\n",
      "2000\n",
      "3000\n",
      "4000\n",
      "5000\n",
      "6000\n",
      "7000\n",
      "8000\n",
      "9000\n",
      "DELETED TRACKS: 44\n",
      "0\n",
      "1000\n",
      "DELETED TRACKS: 0\n",
      "9810\n",
      "1455\n",
      "20.88869047164917 SECONDS\n"
     ]
    }
   ],
   "source": [
    "start = time.time()\n",
    "\n",
    "df_dev,X_dev_list,y_dev_list,rate_dev= data_import('development.csv','dev')\n",
    "df_ev,X_ev_list,rate_ev = data_import('evaluation.csv','ev')\n",
    "\n",
    "print(len(X_dev_list))\n",
    "print(len(X_ev_list))\n",
    "\n",
    "end = time.time()\n",
    "print(end-start,'SECONDS')"
   ],
   "metadata": {
    "collapsed": false
   }
  },
  {
   "cell_type": "markdown",
   "source": [
    "Pre-processing"
   ],
   "metadata": {
    "collapsed": false
   }
  },
  {
   "cell_type": "code",
   "execution_count": 111,
   "outputs": [
    {
     "name": "stdout",
     "output_type": "stream",
     "text": [
      "0\n",
      "1000\n",
      "2000\n",
      "3000\n",
      "4000\n",
      "5000\n",
      "6000\n",
      "7000\n",
      "8000\n",
      "9000\n",
      "(9810, 200)\n",
      "Spectrometer conversion X_dev: DONE\n",
      "0\n",
      "1000\n",
      "(1455, 200)\n",
      "Spectrometer conversion X_ev: DONE\n",
      "Dataframe conversion: DONE\n",
      "84.10156464576721 SECONDS\n"
     ]
    }
   ],
   "source": [
    "start = time.time()\n",
    "\n",
    "n_sub_row = 8\n",
    "n_sub_col = 25\n",
    "\n",
    "spectX_dev_list = spect(X_dev_list,rate_dev, n_sub_row, n_sub_col)\n",
    "print('Spectrometer conversion X_dev: DONE')\n",
    "spectX_ev_list = spect(X_ev_list, rate_ev, n_sub_row, n_sub_col)\n",
    "print('Spectrometer conversion X_ev: DONE')\n",
    "\n",
    "y_dev = pd.DataFrame(np.array(y_dev_list).transpose())\n",
    "X_dev = pd.DataFrame(spectX_dev_list).fillna(0)\n",
    "X_ev = pd.DataFrame(spectX_ev_list).fillna(0)\n",
    "print('Dataframe conversion: DONE')\n",
    "\n",
    "end = time.time()\n",
    "print(end-start,'SECONDS')"
   ],
   "metadata": {
    "collapsed": false
   }
  },
  {
   "cell_type": "code",
   "execution_count": 112,
   "outputs": [
    {
     "name": "stdout",
     "output_type": "stream",
     "text": [
      "Normalization: DONE\n"
     ]
    }
   ],
   "source": [
    "\n",
    "scaler = MinMaxScaler((-1,1))\n",
    "# scaler = StandardScaler()\n",
    "scaler.fit(X_dev)\n",
    "X_dev_n = np.array(scaler.transform(X_dev))\n",
    "# scaler.fit(X_ev)\n",
    "X_ev_n = np.array(scaler.transform(X_ev))\n",
    "print('Normalization: DONE')\n"
   ],
   "metadata": {
    "collapsed": false
   }
  },
  {
   "cell_type": "code",
   "execution_count": 113,
   "outputs": [
    {
     "name": "stdout",
     "output_type": "stream",
     "text": [
      "<class 'pandas.core.frame.DataFrame'>\n",
      "RangeIndex: 9810 entries, 0 to 9809\n",
      "Columns: 180 entries, 0 to 179\n",
      "dtypes: float32(180)\n",
      "memory usage: 6.7 MB\n",
      "None\n"
     ]
    },
    {
     "data": {
      "text/plain": "<Figure size 640x480 with 1 Axes>",
      "image/png": "[encoded data removed]"
     },
     "metadata": {},
     "output_type": "display_data"
    }
   ],
   "source": [
    "tot_attr = n_sub_row*n_sub_col\n",
    "max_attr = 180\n",
    "pca = PCA(n_components=tot_attr)\n",
    "X_proj = pca.fit_transform(X_dev_n)\n",
    "plt.plot(pca.explained_variance_ratio_, marker='o', linestyle='')\n",
    "\n",
    "pca = PCA(n_components=max_attr)\n",
    "X_dev_proj = pca.fit_transform(X_dev_n)\n",
    "X_ev_proj = pca.transform(X_ev_n)\n",
    "X_dev_proj=pd.DataFrame(X_dev_proj)\n",
    "print(X_dev_proj.info())"
   ],
   "metadata": {
    "collapsed": false
   }
  },
  {
   "cell_type": "code",
   "execution_count": 76,
   "outputs": [],
   "source": [
    "X_train_valid, X_test, y_train_valid, y_test = train_test_split(X_dev_proj, y_dev, test_size=0.20,shuffle=True)"
   ],
   "metadata": {
    "collapsed": false
   }
  },
  {
   "cell_type": "markdown",
   "source": [
    "Grid-search"
   ],
   "metadata": {
    "collapsed": false
   }
  },
  {
   "cell_type": "code",
   "execution_count": null,
   "outputs": [],
   "source": [
    "params = {\n",
    "    \"n_estimators\": [50, 100, 200, 500],\n",
    "    \"criterion\": [\"gini\", \"entropy\"]\n",
    "    }\n",
    "\n",
    "\n",
    "grid_search = GridSearchCV(RandomForestClassifier(random_state=42), params,cv=5, scoring=\"accuracy\",n_jobs=16)\n",
    "grid_search.fit(X_train_valid,y_train_valid)\n",
    "print(grid_search.best_params_, '->', grid_search.best_score_)"
   ],
   "metadata": {
    "collapsed": false,
    "pycharm": {
     "is_executing": true
    }
   }
  },
  {
   "cell_type": "code",
   "execution_count": null,
   "outputs": [],
   "source": [
    "params = {\n",
    "    \"n_estimators\": [50, 100, 200, 500],\n",
    "    \"criterion\": [\"gini\", \"entropy\"]\n",
    "    }\n",
    "\n",
    "\n",
    "grid_search = GridSearchCV(ExtraTreesClassifier(random_state=42), params,cv=5, scoring=\"accuracy\",n_jobs=16)\n",
    "grid_search.fit(X_train_valid,y_train_valid)\n",
    "print(grid_search.best_params_, '->', grid_search.best_score_)"
   ],
   "metadata": {
    "collapsed": false,
    "pycharm": {
     "is_executing": true
    }
   }
  },
  {
   "cell_type": "code",
   "execution_count": null,
   "outputs": [],
   "source": [
    "\n",
    "\n",
    "params = {\n",
    "    \"n\": [5,10,15],\n",
    "    \"weights\" : [\"uniform\", \"distance\"]\n",
    "    }\n",
    "\n",
    "\n",
    "grid_search = GridSearchCV(KNeighborsClassifier(), params,cv=5, scoring=\"accuracy\",n_jobs=16)\n",
    "grid_search.fit(X_train_valid,y_train_valid)\n",
    "print(grid_search.best_params_, '->', grid_search.best_score_)"
   ],
   "metadata": {
    "collapsed": false
   }
  },
  {
   "cell_type": "code",
   "execution_count": 102,
   "outputs": [
    {
     "name": "stdout",
     "output_type": "stream",
     "text": [
      "{'C': 0.1, 'degree': 4, 'gamma': 1, 'kernel': 'poly'} -> 0.7800338141237136\n",
      "80.15 SECONDS\n"
     ]
    }
   ],
   "source": [
    "start = time.time()\n",
    "\n",
    "params = {\n",
    "    \"kernel\": [\"poly\"],\n",
    "    \"degree\" : [2,3,4],\n",
    "    \"gamma\" : [1, 10],\n",
    "    \"C\" : [0.1, 2]\n",
    "    }\n",
    "\n",
    "\n",
    "grid_search = GridSearchCV(SVC(random_state=42), params,cv=5, scoring=\"accuracy\",n_jobs=-1)\n",
    "grid_search.fit(X_train_valid,y_train_valid)\n",
    "print(grid_search.best_params_, '->', grid_search.best_score_)\n",
    "\n",
    "end = time.time()\n",
    "print('{:.2f}'.format(end-start),'SECONDS')"
   ],
   "metadata": {
    "collapsed": false
   }
  },
  {
   "cell_type": "markdown",
   "source": [
    "Test"
   ],
   "metadata": {
    "collapsed": false
   }
  },
  {
   "cell_type": "code",
   "execution_count": 206,
   "outputs": [
    {
     "name": "stdout",
     "output_type": "stream",
     "text": [
      "0.5311268893600516  -  0.5821428571428572\n",
      "48.19 SECONDS\n"
     ]
    }
   ],
   "source": [
    "start = time.time()\n",
    "\n",
    "rf = RandomForestClassifier(n_estimators=700, criterion='entropy',random_state=42,n_jobs=16)\n",
    "rf.fit(X_train_valid, y_train_valid.values.ravel())\n",
    "y_prev = rf.predict(X_test)\n",
    "score1 = f1_score(y_true=y_test, y_pred=y_prev, average='macro')\n",
    "score2 = accuracy_score(y_true=y_test, y_pred=y_prev)\n",
    "print(score1,\" - \",score2)\n",
    "\n",
    "end = time.time()\n",
    "print('{:.2f}'.format(end-start),'SECONDS')"
   ],
   "metadata": {
    "collapsed": false
   }
  },
  {
   "cell_type": "code",
   "execution_count": 205,
   "outputs": [
    {
     "name": "stdout",
     "output_type": "stream",
     "text": [
      "0.46414894551584096  -  0.5520408163265306\n",
      "7.23 SECONDS\n"
     ]
    }
   ],
   "source": [
    "start = time.time()\n",
    "\n",
    "rf = ExtraTreesClassifier(n_estimators=700,criterion='gini',random_state=42,n_jobs=16)\n",
    "rf.fit(X_train_valid, y_train_valid.values.ravel())\n",
    "y_prev = rf.predict(X_test)\n",
    "score1 = f1_score(y_true=y_test, y_pred=y_prev, average='macro')\n",
    "score2 = accuracy_score(y_true=y_test, y_pred=y_prev)\n",
    "print(score1,\" - \",score2)\n",
    "\n",
    "end = time.time()\n",
    "print('{:.2f}'.format(end-start),'SECONDS')"
   ],
   "metadata": {
    "collapsed": false
   }
  },
  {
   "cell_type": "code",
   "execution_count": 114,
   "outputs": [
    {
     "name": "stdout",
     "output_type": "stream",
     "text": [
      "0.8112227963310683  -  0.8001022494887525\n",
      "14.74 SECONDS\n"
     ]
    }
   ],
   "source": [
    "start = time.time()\n",
    "\n",
    "rf = SVC(kernel='rbf',gamma=0.11,C=4.2,random_state=42)\n",
    "rf.fit(X_train_valid, y_train_valid.values.ravel())\n",
    "y_prev = rf.predict(X_test)\n",
    "score1 = f1_score(y_true=y_test, y_pred=y_prev, average='macro')\n",
    "score2 = accuracy_score(y_true=y_test, y_pred=y_prev)\n",
    "print(score1,\" - \",score2)\n",
    "\n",
    "end = time.time()\n",
    "print('{:.2f}'.format(end-start),'SECONDS')\n",
    "# kernel='poly',gamma=1,degree=4,C=0.1,random_state=42\n",
    "# kernel='rbf',gamma=0.1,C=2,random_state=42\n",
    "# kernel='rbf',gamma=0.1,C=5.2,random_state=42\n"
   ],
   "metadata": {
    "collapsed": false
   }
  },
  {
   "cell_type": "markdown",
   "source": [
    "Evaluation"
   ],
   "metadata": {
    "collapsed": false
   }
  },
  {
   "cell_type": "code",
   "execution_count": 115,
   "outputs": [],
   "source": [
    "rf = SVC(kernel='rbf',gamma=0.11,C=4.2)\n",
    "rf.fit(X_dev_proj, y_dev.values.ravel())\n",
    "y_prev_ev = rf.predict(X_ev_proj)"
   ],
   "metadata": {
    "collapsed": false
   }
  },
  {
   "cell_type": "markdown",
   "source": [
    "Generate results"
   ],
   "metadata": {
    "collapsed": false
   }
  },
  {
   "cell_type": "code",
   "execution_count": 116,
   "outputs": [],
   "source": [
    "with open('res.csv', mode='w', newline='') as file:\n",
    "    file_writer = csv.writer(file)\n",
    "    i = 0\n",
    "    file_writer.writerow(['Id', 'Predicted'])\n",
    "    for elem in y_prev_ev:\n",
    "        file_writer.writerow([i, elem])\n",
    "        i += 1"
   ],
   "metadata": {
    "collapsed": false
   }
  }
 ],
 "metadata": {
  "kernelspec": {
   "display_name": "Python 3",
   "language": "python",
   "name": "python3"
  },
  "language_info": {
   "codemirror_mode": {
    "name": "ipython",
    "version": 2
   },
   "file_extension": ".py",
   "mimetype": "text/x-python",
   "name": "python",
   "nbconvert_exporter": "python",
   "pygments_lexer": "ipython2",
   "version": "2.7.6"
  }
 },
 "nbformat": 4,
 "nbformat_minor": 0
}
