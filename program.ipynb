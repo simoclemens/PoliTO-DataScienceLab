{
 "cells": [
  {
   "cell_type": "markdown",
   "source": [
    "Import packages"
   ],
   "metadata": {
    "collapsed": false
   }
  },
  {
   "cell_type": "code",
   "execution_count": 55,
   "metadata": {
    "collapsed": true
   },
   "outputs": [],
   "source": [
    "import pandas as pd\n",
    "import numpy as np\n",
    "import seaborn as sns\n",
    "import dython as dy\n",
    "from os.path import join\n",
    "import scipy.io.wavfile as wav\n",
    "import matplotlib.pyplot as plt\n",
    "from sklearn.preprocessing import normalize\n",
    "from sklearn.model_selection import KFold, ParameterGrid\n",
    "from sklearn.ensemble import RandomForestClassifier\n",
    "from sklearn.metrics import f1_score, accuracy_score\n",
    "from sklearn.model_selection import train_test_split\n",
    "import csv"
   ]
  },
  {
   "cell_type": "markdown",
   "source": [
    "Spectrometer function"
   ],
   "metadata": {
    "collapsed": false
   }
  },
  {
   "cell_type": "code",
   "execution_count": 52,
   "outputs": [],
   "source": [
    "def spect(arr, fs, n_sub_r,n_sub_c):\n",
    "    spect_list = []\n",
    "    for i in range(0,len(arr)):\n",
    "        spectrum, freq, time, im = plt.specgram(x=arr[i], Fs=fs[i],scale='dB')\n",
    "        spect_split1 = np.array_split(spectrum, n_sub_r, axis=0)\n",
    "        tmp_row = []\n",
    "        for row in spect_split1:\n",
    "            spect_split2 = np.array_split(row, n_sub_c, axis=1)\n",
    "            for block in spect_split2:\n",
    "                tmp_row.append(block.mean())\n",
    "        spect_list.append(tmp_row)\n",
    "    print(np.array(spect_list).shape)\n",
    "    return spect_list"
   ],
   "metadata": {
    "collapsed": false
   }
  },
  {
   "cell_type": "code",
   "execution_count": 53,
   "outputs": [],
   "source": [
    "def data_import(path,par='dev'):\n",
    "    df_in = pd.read_csv(path)\n",
    "\n",
    "    X = []\n",
    "    y = []\n",
    "    rate_list = []\n",
    "\n",
    "    for item in df_in.iterrows():\n",
    "        filename = item[1]['path']\n",
    "        rate, data = wav.read(filename)\n",
    "        rate_list.append(rate)\n",
    "        X.append(data)\n",
    "        if par=='dev':\n",
    "            label = item[1]['action']+item[1]['object']\n",
    "            y.append(label)\n",
    "\n",
    "    if par=='dev':\n",
    "        return X,y,rate_list\n",
    "    else:\n",
    "        return X,rate_list"
   ],
   "metadata": {
    "collapsed": false
   }
  },
  {
   "cell_type": "markdown",
   "source": [
    "Import data"
   ],
   "metadata": {
    "collapsed": false
   }
  },
  {
   "cell_type": "code",
   "execution_count": null,
   "outputs": [],
   "source": [
    "df_dev = pd.read_csv('development.csv')\n",
    "df_dev = df_dev.rename(columns={'Self-reported fluency level ': 'fluency', 'First Language spoken': 'firstLan', 'Current language used for work/school': 'currentLan'})\n",
    "\n",
    "df_dev['fluency'] = df_dev['fluency'].astype('category')\n",
    "df_dev['firstLan'] = df_dev['firstLan'].astype('category')\n",
    "df_dev['currentLan'] = df_dev['currentLan'].astype('category')\n",
    "df_dev['gender'] = df_dev['gender'].astype('category')\n",
    "df_dev['ageRange'] = df_dev['ageRange'].astype('category')\n",
    "print(df_dev.info())\n",
    "print(df_dev['fluency'].unique())\n",
    "print(df_dev['firstLan'].unique())\n",
    "print(df_dev['currentLan'].unique())\n",
    "print(df_dev['ageRange'].unique())\n",
    "\n",
    "\n",
    "print(df_dev['firstLan'].cat.codes.corr(df_dev['currentLan'].cat.codes))\n",
    "print(df_dev['fluency'].cat.codes.corr(df_dev['firstLan'].cat.codes))\n",
    "print(df_dev['fluency'].cat.codes.corr(df_dev['currentLan'].cat.codes))\n",
    "\n",
    "df_corr = df_dev[['firstLan','fluency','currentLan','ageRange','gender']]\n",
    "print(df_corr.info())\n",
    "df_corr['fluency'] = df_corr['fluency'].cat.codes\n",
    "df_corr['firstLan'] = df_corr['firstLan'].cat.codes\n",
    "df_corr['currentLan'] = df_corr['currentLan'].cat.codes\n",
    "df_corr['gender'] = df_corr['gender'].cat.codes\n",
    "df_corr['ageRange'] = df_corr['ageRange'].cat.codes\n",
    "\n",
    "sns.heatmap(df_corr.corr(),vmin=-1, vmax=1, cmap='BrBG', annot=True)\n"
   ],
   "metadata": {
    "collapsed": false,
    "pycharm": {
     "is_executing": true
    }
   }
  },
  {
   "cell_type": "code",
   "execution_count": 54,
   "outputs": [
    {
     "name": "stdout",
     "output_type": "stream",
     "text": [
      "9854\n",
      "1455\n"
     ]
    }
   ],
   "source": [
    "X_dev_list,y_dev_list,rate_dev = data_import('development.csv','dev')\n",
    "X_ev_list,rate_ev = data_import('evaluation.csv','ev')\n",
    "\n",
    "print(len(X_dev_list))\n",
    "print(len(X_ev_list))"
   ],
   "metadata": {
    "collapsed": false
   }
  },
  {
   "cell_type": "markdown",
   "source": [
    "Pre-processing"
   ],
   "metadata": {
    "collapsed": false
   }
  },
  {
   "cell_type": "code",
   "execution_count": null,
   "outputs": [],
   "source": [
    "n_sub_row = 10\n",
    "n_sub_col = 5\n",
    "\n",
    "spectX_dev_list = spect(X_dev_list,rate_dev, n_sub_row, n_sub_col)\n",
    "spectX_ev_list = spect(X_ev_list, rate_ev, n_sub_row, n_sub_col)\n",
    "\n",
    "y_dev = pd.DataFrame(np.array(y_dev_list).transpose())\n",
    "X_dev = pd.DataFrame(spectX_dev_list).fillna(0)\n",
    "X_dev = normalize(X_dev)\n",
    "X_ev = pd.DataFrame(spectX_ev_list).fillna(0)\n",
    "X_ev = normalize(X_ev)\n"
   ],
   "metadata": {
    "collapsed": false,
    "pycharm": {
     "is_executing": true
    }
   }
  },
  {
   "cell_type": "code",
   "execution_count": null,
   "outputs": [],
   "source": [
    "X_train_valid, X_test, y_train_valid, y_test = train_test_split(X_dev, y_dev, test_size=0.2)"
   ],
   "metadata": {
    "collapsed": false
   }
  },
  {
   "cell_type": "markdown",
   "source": [
    "Grid-search"
   ],
   "metadata": {
    "collapsed": false
   }
  },
  {
   "cell_type": "code",
   "execution_count": null,
   "outputs": [],
   "source": [
    "params = {\n",
    "    \"n_estimators\": [50, 100, 200, 500],\n",
    "    \"criterion\": [\"gini\", \"entropy\"]\n",
    "}\n",
    "\n",
    "n = 5\n",
    "kf = KFold(n)\n",
    "for config in ParameterGrid(params):\n",
    "    sum1 = 0\n",
    "    sum2 = 0\n",
    "    for train_indices, validation_indices in kf.split(X_train_valid):\n",
    "        X_train = X_train_valid[train_indices]\n",
    "        X_valid = X_train_valid[validation_indices]\n",
    "        y_train = (y_train_valid.values.ravel())[train_indices]\n",
    "        y_valid = (y_train_valid.values.ravel())[validation_indices]\n",
    "        rf = RandomForestClassifier(**config)\n",
    "        rf.fit(X_train, y_train)\n",
    "        y_prev = rf.predict(X_valid)\n",
    "        score1 = f1_score(y_true=y_valid, y_pred=y_prev,average='macro')\n",
    "        score2 = accuracy_score(y_true=y_valid, y_pred=y_prev)\n",
    "        sum1 += score1\n",
    "        sum2 += score2\n",
    "    print(float(sum1 / n), float(sum2 / n), \" -> \", config)\n"
   ],
   "metadata": {
    "collapsed": false
   }
  },
  {
   "cell_type": "markdown",
   "source": [
    "Test"
   ],
   "metadata": {
    "collapsed": false
   }
  },
  {
   "cell_type": "code",
   "execution_count": null,
   "outputs": [],
   "source": [
    "rf = RandomForestClassifier(n_estimators=500, criterion='entropy')\n",
    "rf.fit(X_train_valid, y_train_valid.values.ravel())\n",
    "y_prev = rf.predict(X_test)\n",
    "score1 = f1_score(y_true=y_test, y_pred=y_prev, average='macro')\n",
    "score2 = accuracy_score(y_true=y_test, y_pred=y_prev)"
   ],
   "metadata": {
    "collapsed": false
   }
  },
  {
   "cell_type": "markdown",
   "source": [
    "Evaluation"
   ],
   "metadata": {
    "collapsed": false
   }
  },
  {
   "cell_type": "code",
   "execution_count": null,
   "outputs": [],
   "source": [
    "rf = RandomForestClassifier(n_estimators=500, criterion='entropy')\n",
    "rf.fit(X_dev, y_dev.values.ravel())\n",
    "y_prev_ev = rf.predict(X_ev)"
   ],
   "metadata": {
    "collapsed": false
   }
  },
  {
   "cell_type": "markdown",
   "source": [
    "Generate results"
   ],
   "metadata": {
    "collapsed": false
   }
  },
  {
   "cell_type": "code",
   "execution_count": null,
   "outputs": [],
   "source": [
    "with open('res.csv', mode='w', newline='') as file:\n",
    "    file_writer = csv.writer(file)\n",
    "    i = 0\n",
    "    file_writer.writerow(['Id', 'Predicted'])\n",
    "    for elem in y_prev_ev:\n",
    "        file_writer.writerow([i, elem])\n",
    "        i += 1"
   ],
   "metadata": {
    "collapsed": false
   }
  }
 ],
 "metadata": {
  "kernelspec": {
   "display_name": "Python 3",
   "language": "python",
   "name": "python3"
  },
  "language_info": {
   "codemirror_mode": {
    "name": "ipython",
    "version": 2
   },
   "file_extension": ".py",
   "mimetype": "text/x-python",
   "name": "python",
   "nbconvert_exporter": "python",
   "pygments_lexer": "ipython2",
   "version": "2.7.6"
  }
 },
 "nbformat": 4,
 "nbformat_minor": 0
}
